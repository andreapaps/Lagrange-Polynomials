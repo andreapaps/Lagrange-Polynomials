{
 "cells": [
  {
   "cell_type": "code",
   "execution_count": 1,
   "metadata": {},
   "outputs": [
    {
     "name": "stdout",
     "output_type": "stream",
     "text": [
      "[-10, -9, -8, -7, -6, -5, -4, -3, -2, -1, 0, 1, 2, 3, 4, 5, 6, 7, 8, 9, 10] [4.53999298e-05 1.23409804e-04 3.35462628e-04 9.11881966e-04\n",
      " 2.47875218e-03 6.73794700e-03 1.83156389e-02 4.97870684e-02\n",
      " 1.35335283e-01 3.67879441e-01 1.00000000e+00 2.71828183e+00\n",
      " 7.38905610e+00 2.00855369e+01 5.45981500e+01 1.48413159e+02\n",
      " 4.03428793e+02 1.09663316e+03 2.98095799e+03 8.10308393e+03\n",
      " 2.20264658e+04]\n",
      "[4.53999298e-05 1.23409804e-04 3.35462628e-04 9.11881966e-04\n",
      " 2.47875218e-03 6.73794700e-03 1.83156389e-02 4.97870684e-02\n",
      " 1.35335283e-01 3.67879441e-01 1.00000000e+00 2.71828183e+00\n",
      " 7.38905610e+00 2.00855369e+01 5.45981500e+01 1.48413159e+02\n",
      " 4.03428793e+02 1.09663316e+03 2.98095799e+03 8.10308393e+03\n",
      " 2.20264658e+04] [4.548507646107147e-05, 0.00012342556776478997, 0.000335465349493802, 0.0009118824195970543, 0.0024787522479301494, 0.006737947008544576, 0.018315638889717434, 0.049787068367962206, 0.13533528323662836, 0.36787944117144367, 1.0, 2.718281828459048, 7.389056098931592, 20.08553692321597, 54.59815003348884, 148.41315910490403, 403.4287935014087, 1096.6331584292307, 2980.9579867942825, 8103.0839254094135, 22026.465782161387]\n",
      "error is3.1086244689504383e-15\n",
      "           20             19             18             17\n",
      "9.393e-19 x  + 2.033e-17 x  + 6.092e-17 x  + 6.072e-16 x \n",
      "              16             15             14           13\n",
      " + 5.649e-14 x  + 9.668e-13 x  + 1.101e-11 x  + 1.5e-10 x \n",
      "              12             11             10            9\n",
      " + 2.102e-09 x  + 2.539e-08 x  + 2.753e-07 x  + 2.75e-06 x\n",
      "             8             7            6            5           4\n",
      " + 2.48e-05 x + 0.0001985 x + 0.001389 x + 0.008333 x + 0.04167 x\n",
      "           3       2\n",
      " + 0.1667 x + 0.5 x + 1 x + 1\n"
     ]
    },
    {
     "data": {
      "image/png": "[encoded data removed]",
      "text/plain": [
       "<Figure size 432x288 with 1 Axes>"
      ]
     },
     "metadata": {
      "needs_background": "light"
     },
     "output_type": "display_data"
    }
   ],
   "source": [
    "import math\n",
    "import numpy as np\n",
    "import matplotlib.pyplot as plt\n",
    "\n",
    "e = math.e\n",
    "\n",
    "x = list(range(-10,11)) #input numbers from 0 to 2\n",
    "y=[] #outputs of numbers\n",
    "\n",
    "for i in x:\n",
    "    j = e**i  # 3*x[i]**2 + 2*x[i]+1\n",
    "    y = np.append(y,j)\n",
    "       \n",
    "#for i in x:\n",
    "   # print('e^' + str(x[i]) + '=' + str(y[i]) )\n",
    "\n",
    "#plt.plot(y,x, label = \"line 1\")\n",
    "plt.plot(x,y, label = \"line 2\")\n",
    "#plt.plot(x,x, label = \"line 3\")\n",
    "\n",
    "#print(np.poly1d([1,2,3]))  1x^2 + 2x + 3\n",
    "L = 0\n",
    "\n",
    "for i in x:\n",
    "    m = float(y[i])\n",
    "    poly = 1\n",
    "    for j in x:\n",
    "        if (i != j):\n",
    "            #L = L+ Lnew\n",
    "            poly = poly*(np.poly1d([1,-1*x[j]])/(x[i]-x[j]))\n",
    "    L = L + m*poly \n",
    "\n",
    "print(x,y)\n",
    "\n",
    "\n",
    "    #L= np.poly1d([1,1])\n",
    "    #m = float(y[1])\n",
    "ys = list(map(L,x)) # maps x to L(x), x must be lists\n",
    "plt.plot(x,ys)\n",
    "print(y,ys)\n",
    "\n",
    "print('error is'+ str(L(1)-e))\n",
    "print(L)\n"
   ]
  },
  {
   "cell_type": "code",
   "execution_count": null,
   "metadata": {},
   "outputs": [],
   "source": []
  },
  {
   "cell_type": "code",
   "execution_count": 41,
   "metadata": {},
   "outputs": [
    {
     "name": "stdout",
     "output_type": "stream",
     "text": [
      "5\n"
     ]
    }
   ],
   "source": []
  },
  {
   "cell_type": "code",
   "execution_count": null,
   "metadata": {},
   "outputs": [],
   "source": []
  }
 ],
 "metadata": {
  "kernelspec": {
   "display_name": "Python 3",
   "language": "python",
   "name": "python3"
  },
  "language_info": {
   "codemirror_mode": {
    "name": "ipython",
    "version": 3
   },
   "file_extension": ".py",
   "mimetype": "text/x-python",
   "name": "python",
   "nbconvert_exporter": "python",
   "pygments_lexer": "ipython3",
   "version": "3.8.8"
  }
 },
 "nbformat": 4,
 "nbformat_minor": 4
}
